{
 "cells": [
  {
   "cell_type": "markdown",
   "id": "c6df7f08",
   "metadata": {},
   "source": [
    "# Function basics"
   ]
  },
  {
   "cell_type": "code",
   "execution_count": 1,
   "id": "a42cd9e4",
   "metadata": {},
   "outputs": [
    {
     "name": "stdout",
     "output_type": "stream",
     "text": [
      "hello there\n",
      "welcome aboard!\n"
     ]
    }
   ],
   "source": [
    "# basic example of function\n",
    "def greet():\n",
    "    print(\"hello there\")\n",
    "    print(\"welcome aboard!\")\n",
    "\n",
    "greet()"
   ]
  },
  {
   "cell_type": "code",
   "execution_count": 2,
   "id": "6bb8540f",
   "metadata": {},
   "outputs": [
    {
     "name": "stdout",
     "output_type": "stream",
     "text": [
      "hello there harshadhumane\n",
      "welcome aboard!\n",
      "hello there arpanahumane\n",
      "welcome aboard!\n"
     ]
    }
   ],
   "source": [
    "# funcrion using parameter\n",
    "def greet(first_name,last_name):\n",
    "    print(f\"hello there {first_name}{last_name}\")\n",
    "    print(\"welcome aboard!\")\n",
    "\n",
    "greet(\"harshad\",\"humane\")\n",
    "greet(\"arpana\",\"humane\")"
   ]
  },
  {
   "cell_type": "code",
   "execution_count": 3,
   "id": "3810dcfb",
   "metadata": {},
   "outputs": [
    {
     "name": "stdout",
     "output_type": "stream",
     "text": [
      "8\n"
     ]
    }
   ],
   "source": [
    "# key-word argument\n",
    "def increment(value,by):\n",
    "    return value+by\n",
    "\n",
    "print(increment(5,by=3))\n",
    "# by=3 : where by is keyword arguments"
   ]
  },
  {
   "cell_type": "code",
   "execution_count": 4,
   "id": "24856eb0",
   "metadata": {},
   "outputs": [
    {
     "name": "stdout",
     "output_type": "stream",
     "text": [
      "7\n"
     ]
    }
   ],
   "source": [
    "# optional parameter \n",
    "def increment(value,by=2):\n",
    "    return value+by\n",
    "\n",
    "print(increment(5))\n",
    "# here if we didnt provide second parameter then function uses by default parameter"
   ]
  },
  {
   "cell_type": "code",
   "execution_count": 10,
   "id": "758ceb4d",
   "metadata": {},
   "outputs": [
    {
     "name": "stdout",
     "output_type": "stream",
     "text": [
      "5040\n"
     ]
    }
   ],
   "source": [
    "# to pass numbers of arguments to function --> *args\n",
    "def multiply(*numbers):\n",
    "    result = 1\n",
    "    for num in numbers:\n",
    "        result*=num\n",
    "    return result\n",
    "\n",
    "print(multiply(2,3,4,5,6,7))\n",
    "\n",
    "# here *numbers use to take numbers of arguments.Its works like list to store numbers of input."
   ]
  },
  {
   "cell_type": "code",
   "execution_count": 16,
   "id": "789f3077",
   "metadata": {},
   "outputs": [
    {
     "name": "stdout",
     "output_type": "stream",
     "text": [
      "{'id': 1, 'name': 'harsh', 'age': 22}\n"
     ]
    }
   ],
   "source": [
    "# **arg ---> use to take numbers of arguments in key value pair and python will return them in package of dictionary\n",
    "\n",
    "def user_inf(**user):\n",
    "#     this will return a package of dict of input argument\n",
    "    return user\n",
    "#     we can also access them by using keys as they are type of dict\n",
    "#   return user[\"id\"/\"name\"/\"age\"]\n",
    "\n",
    "print(user_inf(id=1,name=\"harsh\",age=22))    "
   ]
  },
  {
   "cell_type": "code",
   "execution_count": 23,
   "id": "416afb57",
   "metadata": {},
   "outputs": [
    {
     "data": {
      "text/plain": [
       "13"
      ]
     },
     "execution_count": 23,
     "metadata": {},
     "output_type": "execute_result"
    }
   ],
   "source": [
    "# fizzBuzz function\n",
    "\n",
    "def fizzBuzz(input):\n",
    "    if input%3 == 0 and input%5 == 0:\n",
    "        return \"fizzBuzz\"\n",
    "    if input%3 == 0:\n",
    "        return \"fizz\"\n",
    "    if input%5 == 0:\n",
    "        return \"buzz\"\n",
    "    else:\n",
    "        return input\n",
    "\n",
    "fizzBuzz(13)    "
   ]
  },
  {
   "cell_type": "code",
   "execution_count": 27,
   "id": "bb5551f0",
   "metadata": {},
   "outputs": [
    {
     "name": "stdout",
     "output_type": "stream",
     "text": [
      "('Math', 'science')\n",
      "{'name': '10th', 'division': 'b'}\n"
     ]
    }
   ],
   "source": [
    "# example for *args(arguments) and **kwargs(key word arguments)\n",
    "\n",
    "def stud_inf(*args, **kwargs):\n",
    "    print(args)\n",
    "    print(kwargs)\n",
    "\n",
    "stud_inf('Math','science', name='10th',division='b')\n",
    "\n",
    "# ('Math', 'science') -->*args return in form of tuple\n",
    "# {'name': '10th', 'division': 'b'} --> **kwargs return in form of dictionary\n",
    "# simple way : when u dont know how much wd be number of arguments for funtion then we use *args and **kwargs so later we can perform actions on them  "
   ]
  },
  {
   "cell_type": "code",
   "execution_count": 29,
   "id": "b5dc3eba",
   "metadata": {},
   "outputs": [
    {
     "name": "stdout",
     "output_type": "stream",
     "text": [
      "('Math', 'science')\n",
      "{'name': '10th', 'division': 'b'}\n"
     ]
    }
   ],
   "source": [
    "# additional example of *args and **kwargs\n",
    "\n",
    "\n",
    "def stud_inf(*args, **kwargs):\n",
    "    print(args)\n",
    "    print(kwargs)\n",
    "\n",
    "sub = ['Math', 'science']\n",
    "identity = {'name': '10th', 'division': 'b'}\n",
    "stud_inf(*sub,**identity)\n",
    "\n",
    "# *sub and **identity used to unpack the object to serve as argument to function individually"
   ]
  },
  {
   "cell_type": "code",
   "execution_count": 31,
   "id": "99b28bbc",
   "metadata": {},
   "outputs": [
    {
     "data": {
      "text/plain": [
       "True"
      ]
     },
     "execution_count": 31,
     "metadata": {},
     "output_type": "execute_result"
    }
   ],
   "source": [
    "# function to check leap year \n",
    "months_day = []\n",
    "def leap_year_check(year):\n",
    "    return year % 4 == 0 and (year % 100 != 0 or year % 400 ==0)\n",
    "   "
   ]
  },
  {
   "cell_type": "markdown",
   "id": "9e41f792",
   "metadata": {},
   "source": [
    "# Problems on functions"
   ]
  },
  {
   "cell_type": "code",
   "execution_count": 40,
   "id": "296da945",
   "metadata": {},
   "outputs": [
    {
     "name": "stdout",
     "output_type": "stream",
     "text": [
      "16 x 1 = 16\n",
      "16 x 2 = 32\n",
      "16 x 3 = 48\n",
      "16 x 4 = 64\n",
      "16 x 5 = 80\n",
      "16 x 6 = 96\n",
      "16 x 7 = 112\n",
      "16 x 8 = 128\n",
      "16 x 9 = 144\n",
      "16 x 10 = 160\n"
     ]
    }
   ],
   "source": [
    "# Write a function that inputs a number and prints the multiplication table of that number\n",
    "\n",
    "def multi_table(num):\n",
    "    result = 1\n",
    "    for i in range(1,11):\n",
    "        result=num*i\n",
    "        print(f\"{num} x {i} = {result}\")\n",
    "\n",
    "multi_table(16)"
   ]
  }
 ],
 "metadata": {
  "kernelspec": {
   "display_name": "Python 3 (ipykernel)",
   "language": "python",
   "name": "python3"
  },
  "language_info": {
   "codemirror_mode": {
    "name": "ipython",
    "version": 3
   },
   "file_extension": ".py",
   "mimetype": "text/x-python",
   "name": "python",
   "nbconvert_exporter": "python",
   "pygments_lexer": "ipython3",
   "version": "3.10.9"
  }
 },
 "nbformat": 4,
 "nbformat_minor": 5
}
