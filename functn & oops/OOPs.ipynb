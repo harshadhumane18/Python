{
 "cells": [
  {
   "cell_type": "markdown",
   "id": "60a97b10",
   "metadata": {},
   "source": [
    "# Creating classes and attributes:"
   ]
  },
  {
   "cell_type": "code",
   "execution_count": 43,
   "id": "7b5d96c3",
   "metadata": {},
   "outputs": [
    {
     "name": "stdout",
     "output_type": "stream",
     "text": [
      "Harshad\n",
      "Humane\n",
      "Akshay\n",
      "Wagh\n",
      "Harshad Humane\n",
      "Akshay Wagh\n"
     ]
    }
   ],
   "source": [
    "class EmployeeInf(object):\n",
    "    \n",
    "    def __init__(self,first_name,second_name,pay,designation):\n",
    "        self.first_name = first_name\n",
    "        self.second_name = second_name\n",
    "        self.pay = pay\n",
    "        self.designation = designation\n",
    "    \n",
    "    def fullname(self):\n",
    "        return \"{} {}\".format(self.first_name,self.second_name)\n",
    "\n",
    "\n",
    "        \n",
    "emp1 = EmployeeInf('Harshad','Humane',65000,'Junior data sci engg')\n",
    "emp2 = EmployeeInf('Akshay','Wagh',45000,'Design engineer')\n",
    "\n",
    "print(emp1.first_name)\n",
    "print(emp1.second_name)\n",
    "print(emp2.first_name)\n",
    "print(emp2.second_name)\n",
    "print(emp1.fullname())\n",
    "print(emp2.fullname())\n",
    "\n",
    "# emp1.first_name ---> an attribute\n",
    "# emp1.fullname() ---> an method\n",
    "# whenever the method is being created the self is compulsory.Self takes input as object to initiate it."
   ]
  },
  {
   "cell_type": "code",
   "execution_count": 66,
   "id": "d16a053c",
   "metadata": {},
   "outputs": [
    {
     "name": "stdout",
     "output_type": "stream",
     "text": [
      "Bark\n",
      "Bark\n"
     ]
    }
   ],
   "source": [
    "class Dog:\n",
    "    \n",
    "    def __init__(self,name):\n",
    "        self.name = name\n",
    "        \n",
    "    def bark(self):\n",
    "        return \"Bark\"\n",
    "\n",
    "\n",
    "d = Dog(\"Tommy\")\n",
    "print(d.bark()) # Need not to provide the self as it is created as instance\n",
    "print(Dog.bark(d)) #necessary to provide the self as argument as we using direct class"
   ]
  },
  {
   "cell_type": "markdown",
   "id": "173f5ee4",
   "metadata": {},
   "source": [
    "# Class varibale: \n",
    "-Variables which are share among the all instances of the class.So while instances variables are unique for the class for each  instances and class variable will same for all instances.\n",
    "-Whenever we acces the class variable in class, we need to access it either by class name or self instance name.\n",
    "-Class_name.variable_name ---> is same/unique for both class and instances (i.e: EmployeeInf.no_of_emplys+=1)\n",
    "-self.Varaible_name ---> can be used for both class and instances. main advantage will be that the value of this variable can changable for instances.(i.e: self.raise_rate)"
   ]
  },
  {
   "cell_type": "code",
   "execution_count": 93,
   "id": "1b790be4",
   "metadata": {},
   "outputs": [
    {
     "name": "stdout",
     "output_type": "stream",
     "text": [
      "0\n",
      "2\n"
     ]
    }
   ],
   "source": [
    "class EmployeeInf():\n",
    "    \n",
    "    no_of_emplys = 0\n",
    "    raise_rate = 1.4\n",
    "    \n",
    "    def __init__(self,first_name,second_name,pay,designation):\n",
    "        self.first_name = first_name\n",
    "        self.second_name = second_name\n",
    "        self.pay = pay\n",
    "        self.designation = designation\n",
    "        \n",
    "        EmployeeInf.no_of_emplys+=1\n",
    "    \n",
    "    def raise_amount(self):\n",
    "        self.pay = int(self.pay * self.raise_rate)\n",
    "        return self.pay\n",
    "\n",
    "\n",
    "print(EmployeeInf.no_of_emplys)\n",
    "\n",
    "emp1 = EmployeeInf('Harshad','Humane',65000,'Junior data sci engg')   \n",
    "emp2 = EmployeeInf('Akshay','Wagh',45000,'Design engineer')\n",
    "\n",
    "print(EmployeeInf.no_of_emplys)\n",
    "\n"
   ]
  },
  {
   "cell_type": "markdown",
   "id": "d2852c2c",
   "metadata": {},
   "source": [
    "# Closures:\n",
    "- Retain\" in the context of closures refers to the capability of a function to maintain access to variables from its enclosing scope even after that scope has finished executing. This allows the function to \"retain\" or \"remember\" the values of those variables, enabling it to use and manipulate them whenever it's called, preserving their state between different function calls."
   ]
  },
  {
   "cell_type": "code",
   "execution_count": 103,
   "id": "0b7704d9",
   "metadata": {},
   "outputs": [
    {
     "name": "stdout",
     "output_type": "stream",
     "text": [
      "hii\n",
      "bye\n"
     ]
    }
   ],
   "source": [
    "def greetings(msg):\n",
    "    message = msg\n",
    "    \n",
    "    def in_greertings():\n",
    "        print(msg)\n",
    "    return in_greertings # ---> this made inner function to be unexecutable.\n",
    "\n",
    "hi = greetings(\"hii\")\n",
    "bye = greetings(\"bye\")\n",
    "\n",
    "hi() # ---> this made those function to be executable\n",
    "bye()"
   ]
  },
  {
   "cell_type": "markdown",
   "id": "73c9a20c",
   "metadata": {},
   "source": [
    "# Decorators:\n",
    "- are kind of same as closures but instead it takes functions as an arguments.  \n",
    "- Decorators : Is the functions with takes another function as an argument, adds some kind of funcionality and  returns another functions without altering the original source code function we passed in.  \n",
    "- Class methods(Decorator--> @Classmethod): takes 1st argument as class(cls) and has ability to change the value globally.@classmethod, you define a method that operates on the class itself, rather than on instances. This can be particularly useful when you need to manage data that's shared among all instances of that class or when you want to provide different ways to create instances of the class.\n",
    "- Regular methods --> takes 1st argument as self(instance)  \n",
    "- Static methods(Decorator--> @Staticmethod): takes no 1st argument, works as normal function but only diff is there they are created in class for some logical reason."
   ]
  },
  {
   "cell_type": "markdown",
   "id": "70cac098",
   "metadata": {},
   "source": [
    "### Notes:\n",
    "- static method: is a method that belongs to a class but doesn’t operate on instances of that class. It doesn’t have access to instance-specific data (like attributes), and it doesn’t receive an implicit first argument (like self in instance methods). Instead, it behaves more like a regular function within the class.  should be used judiciously. If a method requires access to instance-specific data or needs to modify instance attributes, it's better to use an instance method. \n",
    "\n",
    "- @classmethod: is a decorator used to define a method within a class that operates on the class itself rather than on instances of the class. It receives the class itself as the first argument (cls conventionally) instead of the instance (self in instance methods). @classmethod is often used to create alternative constructors or to perform operations that involve the class itself rather than its instances.\n"
   ]
  },
  {
   "cell_type": "code",
   "execution_count": 107,
   "id": "e59cd7c9",
   "metadata": {},
   "outputs": [
    {
     "name": "stdout",
     "output_type": "stream",
     "text": [
      "print the decorator function!\n"
     ]
    }
   ],
   "source": [
    "def decorator_funct(orig_function):\n",
    "    def wrapper_function():\n",
    "        return orig_function()\n",
    "    return wrapper_function\n",
    "\n",
    "@decorator_funct\n",
    "def display():\n",
    "    print(\"print the decorator function!\")\n",
    "\n",
    "display()\n",
    "# orig_function = decorator_funct(display)\n",
    "# orig_function()\n",
    "\n",
    "# writing this ---> @decorator_funct before original functional and this ---> orig_function = decorator_funct(display)is same. Things like this known as decorators"
   ]
  },
  {
   "cell_type": "code",
   "execution_count": 2,
   "id": "c71be6aa",
   "metadata": {},
   "outputs": [
    {
     "name": "stdout",
     "output_type": "stream",
     "text": [
      "Harshad\n"
     ]
    }
   ],
   "source": [
    "# creating 2 __init__ method, to check dose it works\n",
    "\n",
    "class Hello:\n",
    "    def __init__(self,name):\n",
    "        print(name)\n",
    "    \n",
    "    def __init__(self,name):\n",
    "        print(name)\n",
    "\n",
    "        \n",
    "hello = Hello(\"Harshad\")        \n",
    "        "
   ]
  },
  {
   "cell_type": "markdown",
   "id": "f0efd746",
   "metadata": {},
   "source": [
    "# Inheritance:"
   ]
  },
  {
   "cell_type": "code",
   "execution_count": 23,
   "id": "f9b928b7",
   "metadata": {},
   "outputs": [
    {
     "name": "stdout",
     "output_type": "stream",
     "text": [
      "java\n"
     ]
    }
   ],
   "source": [
    "class EmployeeInf():\n",
    "    \n",
    "    no_of_emplys = 0\n",
    "    raise_rate = 1.4\n",
    "    \n",
    "    def __init__(self,first_name,second_name,pay,designation):\n",
    "        self.first_name = first_name\n",
    "        self.second_name = second_name\n",
    "        self.pay = pay\n",
    "        self.designation = designation\n",
    "        \n",
    "    def amount_raise(self):\n",
    "        self.pay = int(self.pay*self.raise_rate)\n",
    "        return self.pay\n",
    "        \n",
    "    def fullname(self):\n",
    "        return \"{} {}\".format(self.first_name,self.second_name)\n",
    "       \n",
    "\n",
    "class PythonDev(EmployeeInf):\n",
    "    raise_rate = 1.5\n",
    "    def __init__(self,first_name,second_name,pay,designation,prog_lang):\n",
    "        super().__init__(first_name,second_name,pay,designation)\n",
    "        self.prog_lang = prog_lang\n",
    "\n",
    "emp1 = PythonDev('Harshad','Humane',65000,'Junior data sci engg',\"Python\")   \n",
    "emp2 = PythonDev('Akshay','Wagh',45000,'Design engineer',\"java\")        \n",
    "\n",
    "print(emp2.prog_lang)\n",
    "        "
   ]
  },
  {
   "cell_type": "markdown",
   "id": "9960771c",
   "metadata": {},
   "source": [
    "# Dunder / magical methods"
   ]
  },
  {
   "cell_type": "code",
   "execution_count": 16,
   "id": "f8e86f1b",
   "metadata": {},
   "outputs": [
    {
     "name": "stdout",
     "output_type": "stream",
     "text": [
      "110000\n",
      "14\n"
     ]
    }
   ],
   "source": [
    "class EmployeeInf:\n",
    "    \n",
    "    def __init__(self,first_name,second_name,pay,designation):\n",
    "        self.first_name = first_name\n",
    "        self.second_name = second_name\n",
    "        self.pay = pay\n",
    "        self.designation = designation\n",
    "    \n",
    "    def fullname(self):\n",
    "        return \"{} {}\".format(self.first_name,self.second_name)\n",
    "    \n",
    "    def __repr__(self):\n",
    "        return \"Employee ('{}','{}','{}')\".format(self.first_name,self.second_name,self.pay)\n",
    "    \n",
    "    def __str__(self):\n",
    "        return self.fullname()\n",
    "\n",
    "    def __add__(self, other):\n",
    "        return self.pay + other.pay\n",
    "    \n",
    "    def __len__(self):\n",
    "        return len(self.fullname())\n",
    "    \n",
    "emp1 = EmployeeInf('Harshad','Humane',65000,'Junior data sci engg')   \n",
    "emp2 = EmployeeInf('Akshay','Wagh',45000,'Design engineer')\n",
    "\n",
    "# print(emp1.__repr__())\n",
    "# print(emp1.__str__())     \n",
    "\n",
    "# just by adding two employee we wd be cal their total salary\n",
    "print(emp1 + emp2)\n",
    "\n",
    "# to know how mnay character of employee takes by dunder method\n",
    "print(len(emp1))"
   ]
  },
  {
   "cell_type": "markdown",
   "id": "3727658b",
   "metadata": {},
   "source": [
    "# Decorator:@property,@setter"
   ]
  },
  {
   "cell_type": "code",
   "execution_count": 40,
   "id": "c42faf67",
   "metadata": {},
   "outputs": [
    {
     "name": "stdout",
     "output_type": "stream",
     "text": [
      "akshay\n",
      "akshay.wagh@email.com\n",
      "akshay wagh\n"
     ]
    }
   ],
   "source": [
    "class EmployeeInf:\n",
    "    \n",
    "    def __init__(self,first_name,second_name):\n",
    "        self.first_name = first_name\n",
    "        self.second_name = second_name\n",
    "    \n",
    "    @property  # def email()is a method but by property decorator we can access it as attribute \n",
    "    def email(self):\n",
    "        return \"{}.{}@email.com\".format(self.first_name,self.second_name,)\n",
    "    \n",
    "    @property\n",
    "    def fullname(self):\n",
    "        return \"{} {}\".format(self.first_name,self.second_name)\n",
    "    \n",
    "    @fullname.setter\n",
    "    def fullname(self, name):\n",
    "        first_name,second_name = name.split(\" \")\n",
    "        self.first_name = first_name\n",
    "        self.second_name = second_name\n",
    "        \n",
    "        \n",
    "        \n",
    "emp1 = EmployeeInf('Harshad','Humane')\n",
    "\n",
    "\n",
    "emp1.fullname = \"akshay wagh\"\n",
    "\n",
    "# emp1.first_name = \"Aditya\"\n",
    "print(emp1.first_name)\n",
    "print(emp1.email)\n",
    "print(emp1.fullname)"
   ]
  },
  {
   "cell_type": "markdown",
   "id": "c6a3cd67",
   "metadata": {},
   "source": [
    "# Additional notes:\n",
    "- Setters and Getters: are methods used to set and retrieve the values of attributes in a class, allowing control over how these values are accessed and modified.(Those are created method by ourself in class scope.)  \n",
    "\n",
    "- The mro() method in Python stands for Method Resolution Order. It's used to determine the order in which Python looks for methods and attributes within classes in the context of inheritance. i.e: print(class_name.mro())\n"
   ]
  },
  {
   "cell_type": "code",
   "execution_count": null,
   "id": "db5fcbb4",
   "metadata": {},
   "outputs": [],
   "source": []
  }
 ],
 "metadata": {
  "kernelspec": {
   "display_name": "Python 3 (ipykernel)",
   "language": "python",
   "name": "python3"
  },
  "language_info": {
   "codemirror_mode": {
    "name": "ipython",
    "version": 3
   },
   "file_extension": ".py",
   "mimetype": "text/x-python",
   "name": "python",
   "nbconvert_exporter": "python",
   "pygments_lexer": "ipython3",
   "version": "3.10.9"
  }
 },
 "nbformat": 4,
 "nbformat_minor": 5
}
