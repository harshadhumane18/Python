{
 "cells": [
  {
   "cell_type": "code",
   "execution_count": 2,
   "id": "6aae8ec6",
   "metadata": {},
   "outputs": [],
   "source": [
    "import numpy as np"
   ]
  },
  {
   "cell_type": "code",
   "execution_count": 3,
   "id": "a75fb39f",
   "metadata": {},
   "outputs": [
    {
     "data": {
      "text/plain": [
       "array([[11, 13, 15],\n",
       "       [17, 19, 21]])"
      ]
     },
     "execution_count": 3,
     "metadata": {},
     "output_type": "execute_result"
    }
   ],
   "source": [
    "# EXERCISE 1 - Element-wise addition of 2 numpy arrays\n",
    "a = np.array([[1,2,3],\n",
    "              [4,5,6]])\n",
    "\n",
    "b = np.array([[10,11,12],\n",
    "              [13,14,15]])\n",
    "c = a + b \n",
    "c"
   ]
  },
  {
   "cell_type": "code",
   "execution_count": 4,
   "id": "1057a89c",
   "metadata": {},
   "outputs": [
    {
     "data": {
      "text/plain": [
       "array([[ 2,  4,  6],\n",
       "       [ 8, 10, 12]])"
      ]
     },
     "execution_count": 4,
     "metadata": {},
     "output_type": "execute_result"
    }
   ],
   "source": [
    "# EXERCISE 2 - Multiplying a matrix (numpy array) by a scalar\n",
    "a = np.array([[1,2,3],\n",
    "              [4,5,6]])\n",
    "c = a*2\n",
    "c"
   ]
  },
  {
   "cell_type": "code",
   "execution_count": 5,
   "id": "e4771d4f",
   "metadata": {},
   "outputs": [
    {
     "name": "stdout",
     "output_type": "stream",
     "text": [
      "[[1. 0. 0. 0.]\n",
      " [0. 1. 0. 0.]\n",
      " [0. 0. 1. 0.]\n",
      " [0. 0. 0. 1.]]\n"
     ]
    }
   ],
   "source": [
    "# EXERCISE 3 - Identity Matrix\n",
    "e = np.identity(4)\n",
    "print(e)"
   ]
  },
  {
   "cell_type": "code",
   "execution_count": 6,
   "id": "d0341aa5",
   "metadata": {},
   "outputs": [
    {
     "data": {
      "text/plain": [
       "array([[0, 1, 2, 3],\n",
       "       [4, 5, 6, 7]])"
      ]
     },
     "execution_count": 6,
     "metadata": {},
     "output_type": "execute_result"
    }
   ],
   "source": [
    "# EXERCISE 4 - Array re-dimensioning\n",
    "a = np.array([x for x in range(8)])\n",
    "a.reshape(2,4)"
   ]
  },
  {
   "cell_type": "code",
   "execution_count": 7,
   "id": "8b537063",
   "metadata": {},
   "outputs": [
    {
     "data": {
      "text/plain": [
       "array([[2, 3, 1],\n",
       "       [4, 2, 1]])"
      ]
     },
     "execution_count": 7,
     "metadata": {},
     "output_type": "execute_result"
    }
   ],
   "source": [
    "# EXERCISE 5 - Array datatype conversion\n",
    "a = np.array([[2.5, 3.8, 1.5],\n",
    "              [4.7, 2.9, 1.56]])\n",
    "a_ = a.astype(\"int\")\n",
    "a_"
   ]
  },
  {
   "cell_type": "code",
   "execution_count": 8,
   "id": "23563cfe",
   "metadata": {},
   "outputs": [
    {
     "data": {
      "text/plain": [
       "array([[ True, False, False],\n",
       "       [ True,  True,  True],\n",
       "       [False, False, False]])"
      ]
     },
     "execution_count": 8,
     "metadata": {},
     "output_type": "execute_result"
    }
   ],
   "source": [
    "# EXERCISE 6 - Obtaining Boolean Array from Binary Array\n",
    "a = np.array([[1, 0, 0],\n",
    "              [1, 1, 1],\n",
    "              [0, 0, 0]])\n",
    "\n",
    "a_ = a.astype(\"bool\")\n",
    "a_"
   ]
  },
  {
   "cell_type": "code",
   "execution_count": 11,
   "id": "65af697b",
   "metadata": {},
   "outputs": [
    {
     "data": {
      "text/plain": [
       "array([[ 1,  2,  3,  7,  8,  9],\n",
       "       [ 4,  5,  6, 10, 11, 12]])"
      ]
     },
     "execution_count": 11,
     "metadata": {},
     "output_type": "execute_result"
    }
   ],
   "source": [
    "# EXERCISE 7 - Horizontal Stacking of Numpy Arrays\n",
    "a1 = np.array([[1,2,3],\n",
    "               [4,5,6]])\n",
    "\n",
    "a2 = np.array([[7,8,9],\n",
    "               [10,11,12]])\n",
    "\n",
    "a = np.hstack((a1,a2))\n",
    "a"
   ]
  },
  {
   "cell_type": "code",
   "execution_count": 12,
   "id": "1ad1c38d",
   "metadata": {},
   "outputs": [
    {
     "data": {
      "text/plain": [
       "array([[ 1,  2,  3],\n",
       "       [ 4,  5,  6],\n",
       "       [ 7,  8,  9],\n",
       "       [10, 11, 12]])"
      ]
     },
     "execution_count": 12,
     "metadata": {},
     "output_type": "execute_result"
    }
   ],
   "source": [
    "# EXERCISE 8 - vertical Stacking of Numpy Arrays\n",
    "a1 = np.array([[1,2,3],\n",
    "               [4,5,6]])\n",
    "\n",
    "a2 = np.array([[7,8,9],\n",
    "               [10,11,12]])\n",
    "\n",
    "a = np.vstack((a1,a2))\n",
    "a"
   ]
  },
  {
   "cell_type": "code",
   "execution_count": 14,
   "id": "f97f8cf7",
   "metadata": {},
   "outputs": [
    {
     "data": {
      "text/plain": [
       "array([  0,   2,   4,   6,   8,  10,  12,  14,  16,  18,  20,  22,  24,\n",
       "        26,  28,  30,  32,  34,  36,  38,  40,  42,  44,  46,  48,  50,\n",
       "        52,  54,  56,  58,  60,  62,  64,  66,  68,  70,  72,  74,  76,\n",
       "        78,  80,  82,  84,  86,  88,  90,  92,  94,  96,  98, 100])"
      ]
     },
     "execution_count": 14,
     "metadata": {},
     "output_type": "execute_result"
    }
   ],
   "source": [
    "# EXERCISE 9 - Custom Sequence Generation\n",
    "b = np.array([x for x in range(101) if x%2==0])\n",
    "b"
   ]
  },
  {
   "cell_type": "code",
   "execution_count": 17,
   "id": "1cf43e71",
   "metadata": {},
   "outputs": [
    {
     "data": {
      "text/plain": [
       "(array([0, 3, 4], dtype=int64),)"
      ]
     },
     "execution_count": 17,
     "metadata": {},
     "output_type": "execute_result"
    }
   ],
   "source": [
    "# EXERCISE 10 - from, 2 numpy arrays, extract the indexes in which the elements in the 2 arrays match\n",
    "a = np.array([1,2,3,4,5])\n",
    "\n",
    "b = np.array([1,3,2,4,5])\n",
    "c = np.where(a == b)"
   ]
  },
  {
   "cell_type": "code",
   "execution_count": 20,
   "id": "e2b1b568",
   "metadata": {},
   "outputs": [
    {
     "name": "stdout",
     "output_type": "stream",
     "text": [
      "[  0.  25.  50.  75. 100.]\n"
     ]
    }
   ],
   "source": [
    "# EXERCISE 11 - Generation of given count of equally spaced numbers within a specified range\n",
    "\n",
    "a = np.linspace(0,100,5)\n",
    "print(a)"
   ]
  },
  {
   "cell_type": "code",
   "execution_count": 22,
   "id": "38edb660",
   "metadata": {},
   "outputs": [
    {
     "data": {
      "text/plain": [
       "array([[5, 5, 5],\n",
       "       [5, 5, 5]])"
      ]
     },
     "execution_count": 22,
     "metadata": {},
     "output_type": "execute_result"
    }
   ],
   "source": [
    "# EXERCISE 12 - Matrix Generation with one particular value\n",
    "\n",
    "a = np.full((2,3),5)\n",
    "a"
   ]
  },
  {
   "cell_type": "code",
   "execution_count": 23,
   "id": "a8ef70c5",
   "metadata": {},
   "outputs": [
    {
     "data": {
      "text/plain": [
       "array([[1, 2, 3, 1, 2, 3, 1, 2, 3, 1, 2, 3, 1, 2, 3, 1, 2, 3, 1, 2, 3, 1,\n",
       "        2, 3, 1, 2, 3, 1, 2, 3],\n",
       "       [4, 5, 6, 4, 5, 6, 4, 5, 6, 4, 5, 6, 4, 5, 6, 4, 5, 6, 4, 5, 6, 4,\n",
       "        5, 6, 4, 5, 6, 4, 5, 6],\n",
       "       [7, 8, 9, 7, 8, 9, 7, 8, 9, 7, 8, 9, 7, 8, 9, 7, 8, 9, 7, 8, 9, 7,\n",
       "        8, 9, 7, 8, 9, 7, 8, 9]])"
      ]
     },
     "execution_count": 23,
     "metadata": {},
     "output_type": "execute_result"
    }
   ],
   "source": [
    "# EXERCISE 13 - Array Generation by repeatition of a small array across each dimension\n",
    "a = np.array([[1,2,3],\n",
    "              [4,5,6],\n",
    "              [7,8,9]])\n",
    "b = np.tile(a,10)\n",
    "b\n",
    "\n",
    "# The Numpy tile() function takes an array, A , and returns the array repeated by a given number of repetitions. "
   ]
  },
  {
   "cell_type": "code",
   "execution_count": 27,
   "id": "41eab99e",
   "metadata": {
    "scrolled": true
   },
   "outputs": [
    {
     "data": {
      "text/plain": [
       "array([[3, 6, 6, 4, 5],\n",
       "       [4, 9, 2, 2, 6],\n",
       "       [3, 9, 4, 8, 4],\n",
       "       [9, 1, 6, 7, 5],\n",
       "       [6, 6, 1, 7, 7]])"
      ]
     },
     "execution_count": 27,
     "metadata": {},
     "output_type": "execute_result"
    }
   ],
   "source": [
    "# EXERCISE 14 - Output a 5-by-5 array of random integers between 0 (inclusive) and 10 (exclusive)\n",
    "\n",
    "c = np.random.randint(0,10,(5,5))\n",
    "c"
   ]
  },
  {
   "cell_type": "code",
   "execution_count": 29,
   "id": "25211a2a",
   "metadata": {},
   "outputs": [
    {
     "data": {
      "text/plain": [
       "array([[ 36,  42,  48],\n",
       "       [ 81,  96, 111],\n",
       "       [126, 150, 174]])"
      ]
     },
     "execution_count": 29,
     "metadata": {},
     "output_type": "execute_result"
    }
   ],
   "source": [
    "# EXERCISE 15 - Given 2 numpy arrays as matrices, output the result of multiplying the 2 matrices (as a numpy array)\n",
    "a = np.array([[1,2,3],\n",
    "              [4,5,6],\n",
    "              [7,8,9]])\n",
    "\n",
    "b = np.array([[2,3,4],\n",
    "              [5,6,7],\n",
    "              [8,9,10]])\n",
    "np.matmul(a,b)\n"
   ]
  },
  {
   "cell_type": "code",
   "execution_count": 30,
   "id": "aabd71a1",
   "metadata": {},
   "outputs": [
    {
     "data": {
      "text/plain": [
       "array([[1, 4, 7],\n",
       "       [2, 5, 8],\n",
       "       [3, 6, 9]])"
      ]
     },
     "execution_count": 30,
     "metadata": {},
     "output_type": "execute_result"
    }
   ],
   "source": [
    "# EXERCISE 16 - Matrix Transpose, Output the transpose of a matrix (as numpy array)\n",
    "a = np.array([[1,2,3],\n",
    "              [4,5,6],\n",
    "              [7,8,9]])\n",
    "np.transpose(a)"
   ]
  },
  {
   "cell_type": "code",
   "execution_count": 33,
   "id": "17f85cdd",
   "metadata": {},
   "outputs": [
    {
     "data": {
      "text/plain": [
       "array([ 0.00159265,  0.99999968, -0.0031853 ])"
      ]
     },
     "execution_count": 33,
     "metadata": {},
     "output_type": "execute_result"
    }
   ],
   "source": [
    "# EXERCISE 17 - Sine of an Angle (in radians)\n",
    "angles = np.array([3.14, 3.14/2, 6.28])\n",
    "\n",
    "sine_value = np.sin(angles)\n",
    "sine_value"
   ]
  },
  {
   "cell_type": "code",
   "execution_count": null,
   "id": "20da7f64",
   "metadata": {},
   "outputs": [],
   "source": []
  }
 ],
 "metadata": {
  "kernelspec": {
   "display_name": "Python 3 (ipykernel)",
   "language": "python",
   "name": "python3"
  },
  "language_info": {
   "codemirror_mode": {
    "name": "ipython",
    "version": 3
   },
   "file_extension": ".py",
   "mimetype": "text/x-python",
   "name": "python",
   "nbconvert_exporter": "python",
   "pygments_lexer": "ipython3",
   "version": "3.10.9"
  }
 },
 "nbformat": 4,
 "nbformat_minor": 5
}
